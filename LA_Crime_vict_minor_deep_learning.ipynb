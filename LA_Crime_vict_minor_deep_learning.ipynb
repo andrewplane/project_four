{
  "cells": [
    {
      "cell_type": "markdown",
      "metadata": {
        "id": "3iD4YlvXb6pS"
      },
      "source": [
        "## Preprocessing"
      ]
    },
    {
      "cell_type": "code",
      "execution_count": 1,
      "metadata": {
        "colab": {
          "base_uri": "https://localhost:8080/",
          "height": 392
        },
        "id": "j9SZbHOFb6pT",
        "outputId": "d3532f45-b878-4bb1-85c6-305c084abe15"
      },
      "outputs": [
        {
          "data": {
            "text/html": [
              "<div>\n",
              "<style scoped>\n",
              "    .dataframe tbody tr th:only-of-type {\n",
              "        vertical-align: middle;\n",
              "    }\n",
              "\n",
              "    .dataframe tbody tr th {\n",
              "        vertical-align: top;\n",
              "    }\n",
              "\n",
              "    .dataframe thead th {\n",
              "        text-align: right;\n",
              "    }\n",
              "</style>\n",
              "<table border=\"1\" class=\"dataframe\">\n",
              "  <thead>\n",
              "    <tr style=\"text-align: right;\">\n",
              "      <th></th>\n",
              "      <th>DR_NO</th>\n",
              "      <th>Date Rptd</th>\n",
              "      <th>DATE OCC</th>\n",
              "      <th>TIME OCC</th>\n",
              "      <th>AREA</th>\n",
              "      <th>AREA NAME</th>\n",
              "      <th>Rpt Dist No</th>\n",
              "      <th>Part 1-2</th>\n",
              "      <th>Crm Cd</th>\n",
              "      <th>Crm Cd Desc</th>\n",
              "      <th>...</th>\n",
              "      <th>Status</th>\n",
              "      <th>Status Desc</th>\n",
              "      <th>Crm Cd 1</th>\n",
              "      <th>Crm Cd 2</th>\n",
              "      <th>Crm Cd 3</th>\n",
              "      <th>Crm Cd 4</th>\n",
              "      <th>LOCATION</th>\n",
              "      <th>Cross Street</th>\n",
              "      <th>LAT</th>\n",
              "      <th>LON</th>\n",
              "    </tr>\n",
              "  </thead>\n",
              "  <tbody>\n",
              "    <tr>\n",
              "      <th>0</th>\n",
              "      <td>190326475</td>\n",
              "      <td>03/01/2020 12:00:00 AM</td>\n",
              "      <td>03/01/2020 12:00:00 AM</td>\n",
              "      <td>2130</td>\n",
              "      <td>7</td>\n",
              "      <td>Wilshire</td>\n",
              "      <td>784</td>\n",
              "      <td>1</td>\n",
              "      <td>510</td>\n",
              "      <td>VEHICLE - STOLEN</td>\n",
              "      <td>...</td>\n",
              "      <td>AA</td>\n",
              "      <td>Adult Arrest</td>\n",
              "      <td>510.0</td>\n",
              "      <td>998.0</td>\n",
              "      <td>NaN</td>\n",
              "      <td>NaN</td>\n",
              "      <td>1900 S  LONGWOOD                     AV</td>\n",
              "      <td>NaN</td>\n",
              "      <td>34.0375</td>\n",
              "      <td>-118.3506</td>\n",
              "    </tr>\n",
              "    <tr>\n",
              "      <th>1</th>\n",
              "      <td>200106753</td>\n",
              "      <td>02/09/2020 12:00:00 AM</td>\n",
              "      <td>02/08/2020 12:00:00 AM</td>\n",
              "      <td>1800</td>\n",
              "      <td>1</td>\n",
              "      <td>Central</td>\n",
              "      <td>182</td>\n",
              "      <td>1</td>\n",
              "      <td>330</td>\n",
              "      <td>BURGLARY FROM VEHICLE</td>\n",
              "      <td>...</td>\n",
              "      <td>IC</td>\n",
              "      <td>Invest Cont</td>\n",
              "      <td>330.0</td>\n",
              "      <td>998.0</td>\n",
              "      <td>NaN</td>\n",
              "      <td>NaN</td>\n",
              "      <td>1000 S  FLOWER                       ST</td>\n",
              "      <td>NaN</td>\n",
              "      <td>34.0444</td>\n",
              "      <td>-118.2628</td>\n",
              "    </tr>\n",
              "    <tr>\n",
              "      <th>2</th>\n",
              "      <td>200320258</td>\n",
              "      <td>11/11/2020 12:00:00 AM</td>\n",
              "      <td>11/04/2020 12:00:00 AM</td>\n",
              "      <td>1700</td>\n",
              "      <td>3</td>\n",
              "      <td>Southwest</td>\n",
              "      <td>356</td>\n",
              "      <td>1</td>\n",
              "      <td>480</td>\n",
              "      <td>BIKE - STOLEN</td>\n",
              "      <td>...</td>\n",
              "      <td>IC</td>\n",
              "      <td>Invest Cont</td>\n",
              "      <td>480.0</td>\n",
              "      <td>NaN</td>\n",
              "      <td>NaN</td>\n",
              "      <td>NaN</td>\n",
              "      <td>1400 W  37TH                         ST</td>\n",
              "      <td>NaN</td>\n",
              "      <td>34.0210</td>\n",
              "      <td>-118.3002</td>\n",
              "    </tr>\n",
              "    <tr>\n",
              "      <th>3</th>\n",
              "      <td>200907217</td>\n",
              "      <td>05/10/2023 12:00:00 AM</td>\n",
              "      <td>03/10/2020 12:00:00 AM</td>\n",
              "      <td>2037</td>\n",
              "      <td>9</td>\n",
              "      <td>Van Nuys</td>\n",
              "      <td>964</td>\n",
              "      <td>1</td>\n",
              "      <td>343</td>\n",
              "      <td>SHOPLIFTING-GRAND THEFT ($950.01 &amp; OVER)</td>\n",
              "      <td>...</td>\n",
              "      <td>IC</td>\n",
              "      <td>Invest Cont</td>\n",
              "      <td>343.0</td>\n",
              "      <td>NaN</td>\n",
              "      <td>NaN</td>\n",
              "      <td>NaN</td>\n",
              "      <td>14000    RIVERSIDE                    DR</td>\n",
              "      <td>NaN</td>\n",
              "      <td>34.1576</td>\n",
              "      <td>-118.4387</td>\n",
              "    </tr>\n",
              "    <tr>\n",
              "      <th>4</th>\n",
              "      <td>200412582</td>\n",
              "      <td>09/09/2020 12:00:00 AM</td>\n",
              "      <td>09/09/2020 12:00:00 AM</td>\n",
              "      <td>630</td>\n",
              "      <td>4</td>\n",
              "      <td>Hollenbeck</td>\n",
              "      <td>413</td>\n",
              "      <td>1</td>\n",
              "      <td>510</td>\n",
              "      <td>VEHICLE - STOLEN</td>\n",
              "      <td>...</td>\n",
              "      <td>IC</td>\n",
              "      <td>Invest Cont</td>\n",
              "      <td>510.0</td>\n",
              "      <td>NaN</td>\n",
              "      <td>NaN</td>\n",
              "      <td>NaN</td>\n",
              "      <td>200 E  AVENUE 28</td>\n",
              "      <td>NaN</td>\n",
              "      <td>34.0820</td>\n",
              "      <td>-118.2130</td>\n",
              "    </tr>\n",
              "  </tbody>\n",
              "</table>\n",
              "<p>5 rows × 28 columns</p>\n",
              "</div>"
            ],
            "text/plain": [
              "       DR_NO               Date Rptd                DATE OCC  TIME OCC  AREA  \\\n",
              "0  190326475  03/01/2020 12:00:00 AM  03/01/2020 12:00:00 AM      2130     7   \n",
              "1  200106753  02/09/2020 12:00:00 AM  02/08/2020 12:00:00 AM      1800     1   \n",
              "2  200320258  11/11/2020 12:00:00 AM  11/04/2020 12:00:00 AM      1700     3   \n",
              "3  200907217  05/10/2023 12:00:00 AM  03/10/2020 12:00:00 AM      2037     9   \n",
              "4  200412582  09/09/2020 12:00:00 AM  09/09/2020 12:00:00 AM       630     4   \n",
              "\n",
              "    AREA NAME  Rpt Dist No  Part 1-2  Crm Cd  \\\n",
              "0    Wilshire          784         1     510   \n",
              "1     Central          182         1     330   \n",
              "2   Southwest          356         1     480   \n",
              "3    Van Nuys          964         1     343   \n",
              "4  Hollenbeck          413         1     510   \n",
              "\n",
              "                                Crm Cd Desc  ... Status   Status Desc  \\\n",
              "0                          VEHICLE - STOLEN  ...     AA  Adult Arrest   \n",
              "1                     BURGLARY FROM VEHICLE  ...     IC   Invest Cont   \n",
              "2                             BIKE - STOLEN  ...     IC   Invest Cont   \n",
              "3  SHOPLIFTING-GRAND THEFT ($950.01 & OVER)  ...     IC   Invest Cont   \n",
              "4                          VEHICLE - STOLEN  ...     IC   Invest Cont   \n",
              "\n",
              "  Crm Cd 1 Crm Cd 2  Crm Cd 3 Crm Cd 4  \\\n",
              "0    510.0    998.0       NaN      NaN   \n",
              "1    330.0    998.0       NaN      NaN   \n",
              "2    480.0      NaN       NaN      NaN   \n",
              "3    343.0      NaN       NaN      NaN   \n",
              "4    510.0      NaN       NaN      NaN   \n",
              "\n",
              "                                   LOCATION Cross Street      LAT       LON  \n",
              "0   1900 S  LONGWOOD                     AV          NaN  34.0375 -118.3506  \n",
              "1   1000 S  FLOWER                       ST          NaN  34.0444 -118.2628  \n",
              "2   1400 W  37TH                         ST          NaN  34.0210 -118.3002  \n",
              "3  14000    RIVERSIDE                    DR          NaN  34.1576 -118.4387  \n",
              "4                          200 E  AVENUE 28          NaN  34.0820 -118.2130  \n",
              "\n",
              "[5 rows x 28 columns]"
            ]
          },
          "execution_count": 1,
          "metadata": {},
          "output_type": "execute_result"
        }
      ],
      "source": [
        "# Import our dependencies\n",
        "from sklearn.model_selection import train_test_split\n",
        "from sklearn.preprocessing import StandardScaler\n",
        "import pandas as pd\n",
        "import tensorflow as tf\n",
        "\n",
        "# read in the cleaned csv file from online site (data stored on private server to provide stable static hosting)\n",
        "df = pd.read_csv(\"http://www.andrewlane.us/data/crime_data2020-2024.csv\") # File is 268MB, allow time for download\n",
        "df.head()"
      ]
    },
    {
      "cell_type": "code",
      "execution_count": 2,
      "metadata": {
        "colab": {
          "base_uri": "https://localhost:8080/",
          "height": 206
        },
        "id": "k2l0oPYYb6pU",
        "outputId": "d69ba99e-9dbe-453b-b19c-d928099858c4"
      },
      "outputs": [
        {
          "data": {
            "text/html": [
              "<div>\n",
              "<style scoped>\n",
              "    .dataframe tbody tr th:only-of-type {\n",
              "        vertical-align: middle;\n",
              "    }\n",
              "\n",
              "    .dataframe tbody tr th {\n",
              "        vertical-align: top;\n",
              "    }\n",
              "\n",
              "    .dataframe thead th {\n",
              "        text-align: right;\n",
              "    }\n",
              "</style>\n",
              "<table border=\"1\" class=\"dataframe\">\n",
              "  <thead>\n",
              "    <tr style=\"text-align: right;\">\n",
              "      <th></th>\n",
              "      <th>TIME OCC</th>\n",
              "      <th>LAT</th>\n",
              "      <th>LON</th>\n",
              "      <th>Vict Age</th>\n",
              "    </tr>\n",
              "  </thead>\n",
              "  <tbody>\n",
              "    <tr>\n",
              "      <th>0</th>\n",
              "      <td>2130</td>\n",
              "      <td>34.0375</td>\n",
              "      <td>-118.3506</td>\n",
              "      <td>0</td>\n",
              "    </tr>\n",
              "    <tr>\n",
              "      <th>1</th>\n",
              "      <td>1800</td>\n",
              "      <td>34.0444</td>\n",
              "      <td>-118.2628</td>\n",
              "      <td>47</td>\n",
              "    </tr>\n",
              "    <tr>\n",
              "      <th>2</th>\n",
              "      <td>1700</td>\n",
              "      <td>34.0210</td>\n",
              "      <td>-118.3002</td>\n",
              "      <td>19</td>\n",
              "    </tr>\n",
              "    <tr>\n",
              "      <th>3</th>\n",
              "      <td>2037</td>\n",
              "      <td>34.1576</td>\n",
              "      <td>-118.4387</td>\n",
              "      <td>19</td>\n",
              "    </tr>\n",
              "    <tr>\n",
              "      <th>4</th>\n",
              "      <td>630</td>\n",
              "      <td>34.0820</td>\n",
              "      <td>-118.2130</td>\n",
              "      <td>0</td>\n",
              "    </tr>\n",
              "  </tbody>\n",
              "</table>\n",
              "</div>"
            ],
            "text/plain": [
              "   TIME OCC      LAT       LON  Vict Age\n",
              "0      2130  34.0375 -118.3506         0\n",
              "1      1800  34.0444 -118.2628        47\n",
              "2      1700  34.0210 -118.3002        19\n",
              "3      2037  34.1576 -118.4387        19\n",
              "4       630  34.0820 -118.2130         0"
            ]
          },
          "execution_count": 2,
          "metadata": {},
          "output_type": "execute_result"
        }
      ],
      "source": [
        "# Isolate data that would be available durring a live 911 call and Victom Age (Vict Age) to use for training the model\n",
        "df = df[['TIME OCC', 'LAT', 'LON', 'Vict Age']]\n",
        "df.head()"
      ]
    },
    {
      "cell_type": "code",
      "execution_count": 3,
      "metadata": {
        "colab": {
          "base_uri": "https://localhost:8080/"
        },
        "id": "G4VZOYkhb6pV",
        "outputId": "bb4c3409-cdd5-41be-ccf2-ccf398daf175"
      },
      "outputs": [
        {
          "name": "stdout",
          "output_type": "stream",
          "text": [
            "<class 'pandas.core.frame.DataFrame'>\n",
            "RangeIndex: 1005104 entries, 0 to 1005103\n",
            "Data columns (total 4 columns):\n",
            " #   Column    Non-Null Count    Dtype  \n",
            "---  ------    --------------    -----  \n",
            " 0   TIME OCC  1005104 non-null  int64  \n",
            " 1   LAT       1005104 non-null  float64\n",
            " 2   LON       1005104 non-null  float64\n",
            " 3   Vict Age  1005104 non-null  int64  \n",
            "dtypes: float64(2), int64(2)\n",
            "memory usage: 30.7 MB\n"
          ]
        }
      ],
      "source": [
        "df.info()"
      ]
    },
    {
      "cell_type": "code",
      "execution_count": 4,
      "metadata": {
        "colab": {
          "base_uri": "https://localhost:8080/",
          "height": 210
        },
        "id": "mzSoea48mgfL",
        "outputId": "045f5ef0-e68a-48fe-c2a0-6506e44f515a"
      },
      "outputs": [
        {
          "data": {
            "text/plain": [
              "TIME OCC    1439\n",
              "LAT         5426\n",
              "LON         4982\n",
              "Vict Age     104\n",
              "dtype: int64"
            ]
          },
          "execution_count": 4,
          "metadata": {},
          "output_type": "execute_result"
        }
      ],
      "source": [
        "df.nunique()"
      ]
    },
    {
      "cell_type": "code",
      "execution_count": 5,
      "metadata": {
        "id": "BRc3n3jkb6pV"
      },
      "outputs": [],
      "source": [
        "# Remove rows with Vict Age < 0 (entry errors)\n",
        "df = df[df['Vict Age'] > 0]\n",
        "\n",
        "# create column Is Minor to use to train model\n",
        "df['Is Minor'] = df['Vict Age'].apply(lambda x: 1 if x < 18 else 0)\n",
        "\n",
        "# drop the Vict Age column to keep it out of the training data\n",
        "df = df.drop(columns=['Vict Age'])"
      ]
    },
    {
      "cell_type": "code",
      "execution_count": 6,
      "metadata": {
        "colab": {
          "base_uri": "https://localhost:8080/",
          "height": 206
        },
        "id": "DKmoUk52b6pV",
        "outputId": "2646aefb-f274-4593-e232-434e09a1c579"
      },
      "outputs": [
        {
          "data": {
            "text/html": [
              "<div>\n",
              "<style scoped>\n",
              "    .dataframe tbody tr th:only-of-type {\n",
              "        vertical-align: middle;\n",
              "    }\n",
              "\n",
              "    .dataframe tbody tr th {\n",
              "        vertical-align: top;\n",
              "    }\n",
              "\n",
              "    .dataframe thead th {\n",
              "        text-align: right;\n",
              "    }\n",
              "</style>\n",
              "<table border=\"1\" class=\"dataframe\">\n",
              "  <thead>\n",
              "    <tr style=\"text-align: right;\">\n",
              "      <th></th>\n",
              "      <th>TIME OCC</th>\n",
              "      <th>LAT</th>\n",
              "      <th>LON</th>\n",
              "      <th>Is Minor</th>\n",
              "    </tr>\n",
              "  </thead>\n",
              "  <tbody>\n",
              "    <tr>\n",
              "      <th>1</th>\n",
              "      <td>1800</td>\n",
              "      <td>34.0444</td>\n",
              "      <td>-118.2628</td>\n",
              "      <td>0</td>\n",
              "    </tr>\n",
              "    <tr>\n",
              "      <th>2</th>\n",
              "      <td>1700</td>\n",
              "      <td>34.0210</td>\n",
              "      <td>-118.3002</td>\n",
              "      <td>0</td>\n",
              "    </tr>\n",
              "    <tr>\n",
              "      <th>3</th>\n",
              "      <td>2037</td>\n",
              "      <td>34.1576</td>\n",
              "      <td>-118.4387</td>\n",
              "      <td>0</td>\n",
              "    </tr>\n",
              "    <tr>\n",
              "      <th>11</th>\n",
              "      <td>1430</td>\n",
              "      <td>34.0881</td>\n",
              "      <td>-118.1877</td>\n",
              "      <td>0</td>\n",
              "    </tr>\n",
              "    <tr>\n",
              "      <th>19</th>\n",
              "      <td>1615</td>\n",
              "      <td>34.1016</td>\n",
              "      <td>-118.3370</td>\n",
              "      <td>0</td>\n",
              "    </tr>\n",
              "  </tbody>\n",
              "</table>\n",
              "</div>"
            ],
            "text/plain": [
              "    TIME OCC      LAT       LON  Is Minor\n",
              "1       1800  34.0444 -118.2628         0\n",
              "2       1700  34.0210 -118.3002         0\n",
              "3       2037  34.1576 -118.4387         0\n",
              "11      1430  34.0881 -118.1877         0\n",
              "19      1615  34.1016 -118.3370         0"
            ]
          },
          "execution_count": 6,
          "metadata": {},
          "output_type": "execute_result"
        }
      ],
      "source": [
        "df.head()"
      ]
    },
    {
      "cell_type": "code",
      "execution_count": 7,
      "metadata": {
        "colab": {
          "base_uri": "https://localhost:8080/",
          "height": 300
        },
        "id": "jljh5jx8myXF",
        "outputId": "92df24ed-cbbc-4406-da11-2db7dfcb198a"
      },
      "outputs": [
        {
          "data": {
            "text/html": [
              "<div>\n",
              "<style scoped>\n",
              "    .dataframe tbody tr th:only-of-type {\n",
              "        vertical-align: middle;\n",
              "    }\n",
              "\n",
              "    .dataframe tbody tr th {\n",
              "        vertical-align: top;\n",
              "    }\n",
              "\n",
              "    .dataframe thead th {\n",
              "        text-align: right;\n",
              "    }\n",
              "</style>\n",
              "<table border=\"1\" class=\"dataframe\">\n",
              "  <thead>\n",
              "    <tr style=\"text-align: right;\">\n",
              "      <th></th>\n",
              "      <th>TIME OCC</th>\n",
              "      <th>LAT</th>\n",
              "      <th>LON</th>\n",
              "      <th>Is Minor</th>\n",
              "    </tr>\n",
              "  </thead>\n",
              "  <tbody>\n",
              "    <tr>\n",
              "      <th>count</th>\n",
              "      <td>735641.000000</td>\n",
              "      <td>735641.000000</td>\n",
              "      <td>735641.000000</td>\n",
              "      <td>735641.000000</td>\n",
              "    </tr>\n",
              "    <tr>\n",
              "      <th>mean</th>\n",
              "      <td>1326.719866</td>\n",
              "      <td>33.997381</td>\n",
              "      <td>-118.085022</td>\n",
              "      <td>0.034801</td>\n",
              "    </tr>\n",
              "    <tr>\n",
              "      <th>std</th>\n",
              "      <td>651.051015</td>\n",
              "      <td>1.636055</td>\n",
              "      <td>5.670705</td>\n",
              "      <td>0.183275</td>\n",
              "    </tr>\n",
              "    <tr>\n",
              "      <th>min</th>\n",
              "      <td>1.000000</td>\n",
              "      <td>0.000000</td>\n",
              "      <td>-118.667600</td>\n",
              "      <td>0.000000</td>\n",
              "    </tr>\n",
              "    <tr>\n",
              "      <th>25%</th>\n",
              "      <td>900.000000</td>\n",
              "      <td>34.015500</td>\n",
              "      <td>-118.433500</td>\n",
              "      <td>0.000000</td>\n",
              "    </tr>\n",
              "    <tr>\n",
              "      <th>50%</th>\n",
              "      <td>1400.000000</td>\n",
              "      <td>34.059200</td>\n",
              "      <td>-118.326500</td>\n",
              "      <td>0.000000</td>\n",
              "    </tr>\n",
              "    <tr>\n",
              "      <th>75%</th>\n",
              "      <td>1845.000000</td>\n",
              "      <td>34.166400</td>\n",
              "      <td>-118.276000</td>\n",
              "      <td>0.000000</td>\n",
              "    </tr>\n",
              "    <tr>\n",
              "      <th>max</th>\n",
              "      <td>2359.000000</td>\n",
              "      <td>34.334300</td>\n",
              "      <td>0.000000</td>\n",
              "      <td>1.000000</td>\n",
              "    </tr>\n",
              "  </tbody>\n",
              "</table>\n",
              "</div>"
            ],
            "text/plain": [
              "            TIME OCC            LAT            LON       Is Minor\n",
              "count  735641.000000  735641.000000  735641.000000  735641.000000\n",
              "mean     1326.719866      33.997381    -118.085022       0.034801\n",
              "std       651.051015       1.636055       5.670705       0.183275\n",
              "min         1.000000       0.000000    -118.667600       0.000000\n",
              "25%       900.000000      34.015500    -118.433500       0.000000\n",
              "50%      1400.000000      34.059200    -118.326500       0.000000\n",
              "75%      1845.000000      34.166400    -118.276000       0.000000\n",
              "max      2359.000000      34.334300       0.000000       1.000000"
            ]
          },
          "execution_count": 7,
          "metadata": {},
          "output_type": "execute_result"
        }
      ],
      "source": [
        "df.describe()"
      ]
    },
    {
      "cell_type": "code",
      "execution_count": 8,
      "metadata": {
        "id": "6bCPN1zFb6pW"
      },
      "outputs": [],
      "source": [
        "# Split our preprocessed data into our features and target arrays\n",
        "y = df['Is Minor'].values\n",
        "X = df.drop('Is Minor', axis=1).values\n",
        "\n",
        "# Split the preprocessed data into a training and testing dataset\n",
        "X_train, X_test, y_train, y_test = train_test_split(X, y, random_state=8)"
      ]
    },
    {
      "cell_type": "code",
      "execution_count": 9,
      "metadata": {
        "id": "Zez8HemYb6pW"
      },
      "outputs": [],
      "source": [
        "# Create a StandardScaler instances\n",
        "scaler = StandardScaler()\n",
        "\n",
        "# Fit the StandardScaler\n",
        "X_scaler = scaler.fit(X_train)\n",
        "\n",
        "# Scale the data\n",
        "X_train_scaled = X_scaler.transform(X_train)\n",
        "X_test_scaled = X_scaler.transform(X_test)"
      ]
    },
    {
      "cell_type": "markdown",
      "metadata": {
        "id": "InjOQ5Umb6pW"
      },
      "source": [
        "## Compile, Train and Evaluate the Model"
      ]
    },
    {
      "cell_type": "code",
      "execution_count": 10,
      "metadata": {
        "colab": {
          "base_uri": "https://localhost:8080/",
          "height": 248
        },
        "id": "9fVSCFQ9b6pW",
        "outputId": "4737d086-a240-4a08-aa23-5331fa1625f3"
      },
      "outputs": [
        {
          "name": "stdout",
          "output_type": "stream",
          "text": [
            "Model: \"sequential\"\n",
            "_________________________________________________________________\n",
            " Layer (type)                Output Shape              Param #   \n",
            "=================================================================\n",
            " dense (Dense)               (None, 4)                 16        \n",
            "                                                                 \n",
            " dense_1 (Dense)             (None, 1)                 5         \n",
            "                                                                 \n",
            "=================================================================\n",
            "Total params: 21 (84.00 Byte)\n",
            "Trainable params: 21 (84.00 Byte)\n",
            "Non-trainable params: 0 (0.00 Byte)\n",
            "_________________________________________________________________\n"
          ]
        }
      ],
      "source": [
        "# Define the model - deep neural net, i.e., the number of input features and hidden nodes for each layer.\n",
        "number_input_features = len(X_train[0])\n",
        "hidden_nodes_layer1 = 4 # neural units tried: 2,4,8,16,32,64,128,256\n",
        "# hidden_nodes_layer2 = 2 # multiple layers attempted\n",
        "# hidden_nodes_layer3 = 2\n",
        "# hidden_nodes_layer4 = 2\n",
        "\n",
        "nn = tf.keras.models.Sequential()\n",
        "\n",
        "# First hidden layer\n",
        "nn.add(\n",
        "    tf.keras.layers.Dense(units=hidden_nodes_layer1,\n",
        "                          input_dim=number_input_features,\n",
        "                          activation=\"relu\")\n",
        ")\n",
        "\n",
        "# Additional hidden layers\n",
        "# nn.add(tf.keras.layers.Dense(units=hidden_nodes_layer2,\n",
        "#                              activation=\"relu\"))\n",
        "# nn.add(tf.keras.layers.Dense(units=hidden_nodes_layer3,\n",
        "#                              activation=\"relu\"))\n",
        "# nn.add(tf.keras.layers.Dense(units=hidden_nodes_layer4,\n",
        "#                              activation=\"relu\"))\n",
        "\n",
        "# Output layer\n",
        "nn.add(tf.keras.layers.Dense(units=1,\n",
        "                             activation=\"sigmoid\"))\n",
        "\n",
        "# Check the structure of the model\n",
        "nn.summary()"
      ]
    },
    {
      "cell_type": "code",
      "execution_count": 11,
      "metadata": {
        "id": "g20llzbSb6pW"
      },
      "outputs": [],
      "source": [
        "# Compile the model\n",
        "nn.compile(loss=\"binary_crossentropy\", optimizer=\"adam\", metrics=[\"accuracy\"])"
      ]
    },
    {
      "cell_type": "code",
      "execution_count": 12,
      "metadata": {
        "colab": {
          "base_uri": "https://localhost:8080/"
        },
        "id": "5_Y1I1vEb6pW",
        "outputId": "5bbc637d-9b35-47b3-cb37-69fc0bf73c85"
      },
      "outputs": [
        {
          "name": "stdout",
          "output_type": "stream",
          "text": [
            "Epoch 1/2\n",
            "17242/17242 [==============================] - 5s 289us/step - loss: 0.1568 - accuracy: 0.9653\n",
            "Epoch 2/2\n",
            "17242/17242 [==============================] - 5s 278us/step - loss: 0.1499 - accuracy: 0.9653\n"
          ]
        }
      ],
      "source": [
        "# Train the model\n",
        "fit_model = nn.fit(X_train_scaled,y_train,epochs=2) # no improved accuracy after 2 epochs"
      ]
    },
    {
      "cell_type": "code",
      "execution_count": 13,
      "metadata": {
        "colab": {
          "base_uri": "https://localhost:8080/"
        },
        "id": "cdsKlR9Ub6pW",
        "outputId": "30e82937-1e0c-4b65-8de8-39c8a947399e"
      },
      "outputs": [
        {
          "name": "stdout",
          "output_type": "stream",
          "text": [
            "5748/5748 - 1s - loss: 0.1512 - accuracy: 0.9649 - 1s/epoch - 227us/step\n",
            "Loss: 0.15122394263744354, Accuracy: 0.9649178385734558\n"
          ]
        }
      ],
      "source": [
        "# Evaluate the model using the test data\n",
        "model_loss, model_accuracy = nn.evaluate(X_test_scaled,y_test,verbose=2)\n",
        "print(f\"Loss: {model_loss}, Accuracy: {model_accuracy}\")"
      ]
    },
    {
      "cell_type": "code",
      "execution_count": 14,
      "metadata": {
        "colab": {
          "base_uri": "https://localhost:8080/"
        },
        "id": "f5wRSZZxb6pX",
        "outputId": "626c2ea1-8e02-4c36-db40-3ba7d420aeb4"
      },
      "outputs": [
        {
          "name": "stderr",
          "output_type": "stream",
          "text": [
            "/opt/anaconda3/envs/dev/lib/python3.10/site-packages/keras/src/engine/training.py:3103: UserWarning: You are saving your model as an HDF5 file via `model.save()`. This file format is considered legacy. We recommend using instead the native Keras format, e.g. `model.save('my_model.keras')`.\n",
            "  saving_api.save_model(\n"
          ]
        }
      ],
      "source": [
        "# Export our model to HDF5 file\n",
        "nn.save('victim_is_minor.h5')"
      ]
    },
    {
      "cell_type": "code",
      "execution_count": null,
      "metadata": {
        "id": "LY2FoXUZb6pX"
      },
      "outputs": [],
      "source": []
    }
  ],
  "metadata": {
    "colab": {
      "provenance": []
    },
    "kernelspec": {
      "display_name": "dev",
      "language": "python",
      "name": "python3"
    },
    "language_info": {
      "codemirror_mode": {
        "name": "ipython",
        "version": 3
      },
      "file_extension": ".py",
      "mimetype": "text/x-python",
      "name": "python",
      "nbconvert_exporter": "python",
      "pygments_lexer": "ipython3",
      "version": "3.10.13"
    }
  },
  "nbformat": 4,
  "nbformat_minor": 0
}
