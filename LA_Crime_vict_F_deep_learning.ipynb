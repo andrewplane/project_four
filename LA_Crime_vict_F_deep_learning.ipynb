{
  "cells": [
    {
      "cell_type": "markdown",
      "metadata": {
        "id": "3iD4YlvXb6pS"
      },
      "source": [
        "## Preprocessing"
      ]
    },
    {
      "cell_type": "code",
      "execution_count": 1,
      "metadata": {
        "colab": {
          "base_uri": "https://localhost:8080/",
          "height": 392
        },
        "id": "j9SZbHOFb6pT",
        "outputId": "d3532f45-b878-4bb1-85c6-305c084abe15"
      },
      "outputs": [
        {
          "data": {
            "text/html": [
              "<div>\n",
              "<style scoped>\n",
              "    .dataframe tbody tr th:only-of-type {\n",
              "        vertical-align: middle;\n",
              "    }\n",
              "\n",
              "    .dataframe tbody tr th {\n",
              "        vertical-align: top;\n",
              "    }\n",
              "\n",
              "    .dataframe thead th {\n",
              "        text-align: right;\n",
              "    }\n",
              "</style>\n",
              "<table border=\"1\" class=\"dataframe\">\n",
              "  <thead>\n",
              "    <tr style=\"text-align: right;\">\n",
              "      <th></th>\n",
              "      <th>DR_NO</th>\n",
              "      <th>Date Rptd</th>\n",
              "      <th>DATE OCC</th>\n",
              "      <th>TIME OCC</th>\n",
              "      <th>AREA</th>\n",
              "      <th>AREA NAME</th>\n",
              "      <th>Rpt Dist No</th>\n",
              "      <th>Part 1-2</th>\n",
              "      <th>Crm Cd</th>\n",
              "      <th>Crm Cd Desc</th>\n",
              "      <th>...</th>\n",
              "      <th>Crm Cd 1</th>\n",
              "      <th>Crm Cd 2</th>\n",
              "      <th>Crm Cd 3</th>\n",
              "      <th>Crm Cd 4</th>\n",
              "      <th>LOCATION</th>\n",
              "      <th>Cross Street</th>\n",
              "      <th>LAT</th>\n",
              "      <th>LON</th>\n",
              "      <th>crime_timestamp</th>\n",
              "      <th>Year</th>\n",
              "    </tr>\n",
              "  </thead>\n",
              "  <tbody>\n",
              "    <tr>\n",
              "      <th>0</th>\n",
              "      <td>190326475</td>\n",
              "      <td>03/01/2020 12:00:00 AM</td>\n",
              "      <td>2020-03-01</td>\n",
              "      <td>2130</td>\n",
              "      <td>7</td>\n",
              "      <td>Wilshire</td>\n",
              "      <td>784</td>\n",
              "      <td>1</td>\n",
              "      <td>510</td>\n",
              "      <td>VEHICLE - STOLEN</td>\n",
              "      <td>...</td>\n",
              "      <td>510.0</td>\n",
              "      <td>998.0</td>\n",
              "      <td>NaN</td>\n",
              "      <td>NaN</td>\n",
              "      <td>1900 S  LONGWOOD                     AV</td>\n",
              "      <td>NaN</td>\n",
              "      <td>34.0375</td>\n",
              "      <td>-118.3506</td>\n",
              "      <td>2020-03-01 21:30:00</td>\n",
              "      <td>2020</td>\n",
              "    </tr>\n",
              "    <tr>\n",
              "      <th>1</th>\n",
              "      <td>200106753</td>\n",
              "      <td>02/09/2020 12:00:00 AM</td>\n",
              "      <td>2020-02-08</td>\n",
              "      <td>1800</td>\n",
              "      <td>1</td>\n",
              "      <td>Central</td>\n",
              "      <td>182</td>\n",
              "      <td>1</td>\n",
              "      <td>330</td>\n",
              "      <td>BURGLARY FROM VEHICLE</td>\n",
              "      <td>...</td>\n",
              "      <td>330.0</td>\n",
              "      <td>998.0</td>\n",
              "      <td>NaN</td>\n",
              "      <td>NaN</td>\n",
              "      <td>1000 S  FLOWER                       ST</td>\n",
              "      <td>NaN</td>\n",
              "      <td>34.0444</td>\n",
              "      <td>-118.2628</td>\n",
              "      <td>2020-02-08 18:00:00</td>\n",
              "      <td>2020</td>\n",
              "    </tr>\n",
              "    <tr>\n",
              "      <th>2</th>\n",
              "      <td>200320258</td>\n",
              "      <td>11/11/2020 12:00:00 AM</td>\n",
              "      <td>2020-11-04</td>\n",
              "      <td>1700</td>\n",
              "      <td>3</td>\n",
              "      <td>Southwest</td>\n",
              "      <td>356</td>\n",
              "      <td>1</td>\n",
              "      <td>480</td>\n",
              "      <td>BIKE - STOLEN</td>\n",
              "      <td>...</td>\n",
              "      <td>480.0</td>\n",
              "      <td>NaN</td>\n",
              "      <td>NaN</td>\n",
              "      <td>NaN</td>\n",
              "      <td>1400 W  37TH                         ST</td>\n",
              "      <td>NaN</td>\n",
              "      <td>34.0210</td>\n",
              "      <td>-118.3002</td>\n",
              "      <td>2020-11-04 17:00:00</td>\n",
              "      <td>2020</td>\n",
              "    </tr>\n",
              "    <tr>\n",
              "      <th>3</th>\n",
              "      <td>200907217</td>\n",
              "      <td>05/10/2023 12:00:00 AM</td>\n",
              "      <td>2020-03-10</td>\n",
              "      <td>2037</td>\n",
              "      <td>9</td>\n",
              "      <td>Van Nuys</td>\n",
              "      <td>964</td>\n",
              "      <td>1</td>\n",
              "      <td>343</td>\n",
              "      <td>SHOPLIFTING-GRAND THEFT ($950.01 &amp; OVER)</td>\n",
              "      <td>...</td>\n",
              "      <td>343.0</td>\n",
              "      <td>NaN</td>\n",
              "      <td>NaN</td>\n",
              "      <td>NaN</td>\n",
              "      <td>14000    RIVERSIDE                    DR</td>\n",
              "      <td>NaN</td>\n",
              "      <td>34.1576</td>\n",
              "      <td>-118.4387</td>\n",
              "      <td>2020-03-10 20:37:00</td>\n",
              "      <td>2020</td>\n",
              "    </tr>\n",
              "    <tr>\n",
              "      <th>4</th>\n",
              "      <td>200412582</td>\n",
              "      <td>09/09/2020 12:00:00 AM</td>\n",
              "      <td>2020-09-09</td>\n",
              "      <td>630</td>\n",
              "      <td>4</td>\n",
              "      <td>Hollenbeck</td>\n",
              "      <td>413</td>\n",
              "      <td>1</td>\n",
              "      <td>510</td>\n",
              "      <td>VEHICLE - STOLEN</td>\n",
              "      <td>...</td>\n",
              "      <td>510.0</td>\n",
              "      <td>NaN</td>\n",
              "      <td>NaN</td>\n",
              "      <td>NaN</td>\n",
              "      <td>200 E  AVENUE 28</td>\n",
              "      <td>NaN</td>\n",
              "      <td>34.0820</td>\n",
              "      <td>-118.2130</td>\n",
              "      <td>2020-09-09 06:30:00</td>\n",
              "      <td>2020</td>\n",
              "    </tr>\n",
              "  </tbody>\n",
              "</table>\n",
              "<p>5 rows × 30 columns</p>\n",
              "</div>"
            ],
            "text/plain": [
              "       DR_NO               Date Rptd    DATE OCC  TIME OCC  AREA   AREA NAME  \\\n",
              "0  190326475  03/01/2020 12:00:00 AM  2020-03-01      2130     7    Wilshire   \n",
              "1  200106753  02/09/2020 12:00:00 AM  2020-02-08      1800     1     Central   \n",
              "2  200320258  11/11/2020 12:00:00 AM  2020-11-04      1700     3   Southwest   \n",
              "3  200907217  05/10/2023 12:00:00 AM  2020-03-10      2037     9    Van Nuys   \n",
              "4  200412582  09/09/2020 12:00:00 AM  2020-09-09       630     4  Hollenbeck   \n",
              "\n",
              "   Rpt Dist No  Part 1-2  Crm Cd                               Crm Cd Desc  \\\n",
              "0          784         1     510                          VEHICLE - STOLEN   \n",
              "1          182         1     330                     BURGLARY FROM VEHICLE   \n",
              "2          356         1     480                             BIKE - STOLEN   \n",
              "3          964         1     343  SHOPLIFTING-GRAND THEFT ($950.01 & OVER)   \n",
              "4          413         1     510                          VEHICLE - STOLEN   \n",
              "\n",
              "   ... Crm Cd 1  Crm Cd 2 Crm Cd 3 Crm Cd 4  \\\n",
              "0  ...    510.0     998.0      NaN      NaN   \n",
              "1  ...    330.0     998.0      NaN      NaN   \n",
              "2  ...    480.0       NaN      NaN      NaN   \n",
              "3  ...    343.0       NaN      NaN      NaN   \n",
              "4  ...    510.0       NaN      NaN      NaN   \n",
              "\n",
              "                                   LOCATION Cross Street      LAT       LON  \\\n",
              "0   1900 S  LONGWOOD                     AV          NaN  34.0375 -118.3506   \n",
              "1   1000 S  FLOWER                       ST          NaN  34.0444 -118.2628   \n",
              "2   1400 W  37TH                         ST          NaN  34.0210 -118.3002   \n",
              "3  14000    RIVERSIDE                    DR          NaN  34.1576 -118.4387   \n",
              "4                          200 E  AVENUE 28          NaN  34.0820 -118.2130   \n",
              "\n",
              "       crime_timestamp  Year  \n",
              "0  2020-03-01 21:30:00  2020  \n",
              "1  2020-02-08 18:00:00  2020  \n",
              "2  2020-11-04 17:00:00  2020  \n",
              "3  2020-03-10 20:37:00  2020  \n",
              "4  2020-09-09 06:30:00  2020  \n",
              "\n",
              "[5 rows x 30 columns]"
            ]
          },
          "execution_count": 1,
          "metadata": {},
          "output_type": "execute_result"
        }
      ],
      "source": [
        "# Import our dependencies\n",
        "from sklearn.model_selection import train_test_split\n",
        "from sklearn.preprocessing import StandardScaler\n",
        "import pandas as pd\n",
        "import tensorflow as tf\n",
        "\n",
        "# read in the cleaned csv file from online site (data stored on private server to provide stable static hosting)\n",
        "# df = pd.read_csv(\"http://www.andrewlane.us/data/crime_data2020-2024.csv\") # File is 268MB, allow time for download\n",
        "df = pd.read_csv(\"resources/cleaned_data/crime_2020.csv\") # use this local file for testing or if no internet available\n",
        "df.head()"
      ]
    },
    {
      "cell_type": "code",
      "execution_count": 2,
      "metadata": {
        "colab": {
          "base_uri": "https://localhost:8080/",
          "height": 206
        },
        "id": "k2l0oPYYb6pU",
        "outputId": "d69ba99e-9dbe-453b-b19c-d928099858c4"
      },
      "outputs": [
        {
          "name": "stdout",
          "output_type": "stream",
          "text": [
            "<class 'pandas.core.frame.DataFrame'>\n",
            "RangeIndex: 199846 entries, 0 to 199845\n",
            "Data columns (total 30 columns):\n",
            " #   Column           Non-Null Count   Dtype  \n",
            "---  ------           --------------   -----  \n",
            " 0   DR_NO            199846 non-null  int64  \n",
            " 1   Date Rptd        199846 non-null  object \n",
            " 2   DATE OCC         199846 non-null  object \n",
            " 3   TIME OCC         199846 non-null  int64  \n",
            " 4   AREA             199846 non-null  int64  \n",
            " 5   AREA NAME        199846 non-null  object \n",
            " 6   Rpt Dist No      199846 non-null  int64  \n",
            " 7   Part 1-2         199846 non-null  int64  \n",
            " 8   Crm Cd           199846 non-null  int64  \n",
            " 9   Crm Cd Desc      199846 non-null  object \n",
            " 10  Mocodes          173090 non-null  object \n",
            " 11  Vict Age         199846 non-null  int64  \n",
            " 12  Vict Sex         174360 non-null  object \n",
            " 13  Vict Descent     174357 non-null  object \n",
            " 14  Premis Cd        199844 non-null  float64\n",
            " 15  Premis Desc      199777 non-null  object \n",
            " 16  Weapon Used Cd   72978 non-null   float64\n",
            " 17  Weapon Desc      72978 non-null   object \n",
            " 18  Status           199846 non-null  object \n",
            " 19  Status Desc      199846 non-null  object \n",
            " 20  Crm Cd 1         199844 non-null  float64\n",
            " 21  Crm Cd 2         16392 non-null   float64\n",
            " 22  Crm Cd 3         581 non-null     float64\n",
            " 23  Crm Cd 4         17 non-null      float64\n",
            " 24  LOCATION         199846 non-null  object \n",
            " 25  Cross Street     35020 non-null   object \n",
            " 26  LAT              199846 non-null  float64\n",
            " 27  LON              199846 non-null  float64\n",
            " 28  crime_timestamp  199846 non-null  object \n",
            " 29  Year             199846 non-null  int64  \n",
            "dtypes: float64(8), int64(8), object(14)\n",
            "memory usage: 45.7+ MB\n"
          ]
        }
      ],
      "source": [
        "df.info()"
      ]
    },
    {
      "cell_type": "code",
      "execution_count": 3,
      "metadata": {},
      "outputs": [
        {
          "data": {
            "text/html": [
              "<div>\n",
              "<style scoped>\n",
              "    .dataframe tbody tr th:only-of-type {\n",
              "        vertical-align: middle;\n",
              "    }\n",
              "\n",
              "    .dataframe tbody tr th {\n",
              "        vertical-align: top;\n",
              "    }\n",
              "\n",
              "    .dataframe thead th {\n",
              "        text-align: right;\n",
              "    }\n",
              "</style>\n",
              "<table border=\"1\" class=\"dataframe\">\n",
              "  <thead>\n",
              "    <tr style=\"text-align: right;\">\n",
              "      <th></th>\n",
              "      <th>TIME OCC</th>\n",
              "      <th>LAT</th>\n",
              "      <th>LON</th>\n",
              "      <th>Vict Sex</th>\n",
              "    </tr>\n",
              "  </thead>\n",
              "  <tbody>\n",
              "    <tr>\n",
              "      <th>0</th>\n",
              "      <td>2130</td>\n",
              "      <td>34.0375</td>\n",
              "      <td>-118.3506</td>\n",
              "      <td>M</td>\n",
              "    </tr>\n",
              "    <tr>\n",
              "      <th>1</th>\n",
              "      <td>1800</td>\n",
              "      <td>34.0444</td>\n",
              "      <td>-118.2628</td>\n",
              "      <td>M</td>\n",
              "    </tr>\n",
              "    <tr>\n",
              "      <th>2</th>\n",
              "      <td>1700</td>\n",
              "      <td>34.0210</td>\n",
              "      <td>-118.3002</td>\n",
              "      <td>X</td>\n",
              "    </tr>\n",
              "    <tr>\n",
              "      <th>3</th>\n",
              "      <td>2037</td>\n",
              "      <td>34.1576</td>\n",
              "      <td>-118.4387</td>\n",
              "      <td>M</td>\n",
              "    </tr>\n",
              "    <tr>\n",
              "      <th>4</th>\n",
              "      <td>630</td>\n",
              "      <td>34.0820</td>\n",
              "      <td>-118.2130</td>\n",
              "      <td>NaN</td>\n",
              "    </tr>\n",
              "  </tbody>\n",
              "</table>\n",
              "</div>"
            ],
            "text/plain": [
              "   TIME OCC      LAT       LON Vict Sex\n",
              "0      2130  34.0375 -118.3506        M\n",
              "1      1800  34.0444 -118.2628        M\n",
              "2      1700  34.0210 -118.3002        X\n",
              "3      2037  34.1576 -118.4387        M\n",
              "4       630  34.0820 -118.2130      NaN"
            ]
          },
          "execution_count": 3,
          "metadata": {},
          "output_type": "execute_result"
        }
      ],
      "source": [
        "# Isolate data that would be available durring a live 911 call and Victom Age (Vict Age) to use for training the model\n",
        "df = df[['TIME OCC', 'LAT', 'LON', 'Vict Sex']]\n",
        "df.head()"
      ]
    },
    {
      "cell_type": "code",
      "execution_count": 4,
      "metadata": {
        "colab": {
          "base_uri": "https://localhost:8080/"
        },
        "id": "G4VZOYkhb6pV",
        "outputId": "bb4c3409-cdd5-41be-ccf2-ccf398daf175"
      },
      "outputs": [
        {
          "name": "stdout",
          "output_type": "stream",
          "text": [
            "<class 'pandas.core.frame.DataFrame'>\n",
            "RangeIndex: 199846 entries, 0 to 199845\n",
            "Data columns (total 4 columns):\n",
            " #   Column    Non-Null Count   Dtype  \n",
            "---  ------    --------------   -----  \n",
            " 0   TIME OCC  199846 non-null  int64  \n",
            " 1   LAT       199846 non-null  float64\n",
            " 2   LON       199846 non-null  float64\n",
            " 3   Vict Sex  174360 non-null  object \n",
            "dtypes: float64(2), int64(1), object(1)\n",
            "memory usage: 6.1+ MB\n"
          ]
        }
      ],
      "source": [
        "df.info()"
      ]
    },
    {
      "cell_type": "code",
      "execution_count": 5,
      "metadata": {
        "colab": {
          "base_uri": "https://localhost:8080/",
          "height": 210
        },
        "id": "mzSoea48mgfL",
        "outputId": "045f5ef0-e68a-48fe-c2a0-6506e44f515a"
      },
      "outputs": [
        {
          "data": {
            "text/plain": [
              "TIME OCC    1436\n",
              "LAT         5015\n",
              "LON         4777\n",
              "Vict Sex       4\n",
              "dtype: int64"
            ]
          },
          "execution_count": 5,
          "metadata": {},
          "output_type": "execute_result"
        }
      ],
      "source": [
        "df.nunique()"
      ]
    },
    {
      "cell_type": "code",
      "execution_count": 6,
      "metadata": {
        "id": "BRc3n3jkb6pV"
      },
      "outputs": [],
      "source": [
        "# Remove rows with Vict Age < 0 (entry errors)\n",
        "df = df[(df['Vict Sex'] == 'M') | (df['Vict Sex'] == 'F')]\n",
        "\n",
        "# create column Is Minor to use to train model\n",
        "df['Is F'] = df['Vict Sex'].apply(lambda x: 1 if x == 'F' else 0)\n",
        "\n",
        "# drop the Vict Age column to keep it out of the training data\n",
        "df = df.drop(columns=['Vict Sex'])"
      ]
    },
    {
      "cell_type": "code",
      "execution_count": 7,
      "metadata": {
        "colab": {
          "base_uri": "https://localhost:8080/",
          "height": 206
        },
        "id": "DKmoUk52b6pV",
        "outputId": "2646aefb-f274-4593-e232-434e09a1c579"
      },
      "outputs": [
        {
          "data": {
            "text/html": [
              "<div>\n",
              "<style scoped>\n",
              "    .dataframe tbody tr th:only-of-type {\n",
              "        vertical-align: middle;\n",
              "    }\n",
              "\n",
              "    .dataframe tbody tr th {\n",
              "        vertical-align: top;\n",
              "    }\n",
              "\n",
              "    .dataframe thead th {\n",
              "        text-align: right;\n",
              "    }\n",
              "</style>\n",
              "<table border=\"1\" class=\"dataframe\">\n",
              "  <thead>\n",
              "    <tr style=\"text-align: right;\">\n",
              "      <th></th>\n",
              "      <th>TIME OCC</th>\n",
              "      <th>LAT</th>\n",
              "      <th>LON</th>\n",
              "      <th>Is F</th>\n",
              "    </tr>\n",
              "  </thead>\n",
              "  <tbody>\n",
              "    <tr>\n",
              "      <th>0</th>\n",
              "      <td>2130</td>\n",
              "      <td>34.0375</td>\n",
              "      <td>-118.3506</td>\n",
              "      <td>0</td>\n",
              "    </tr>\n",
              "    <tr>\n",
              "      <th>1</th>\n",
              "      <td>1800</td>\n",
              "      <td>34.0444</td>\n",
              "      <td>-118.2628</td>\n",
              "      <td>0</td>\n",
              "    </tr>\n",
              "    <tr>\n",
              "      <th>3</th>\n",
              "      <td>2037</td>\n",
              "      <td>34.1576</td>\n",
              "      <td>-118.4387</td>\n",
              "      <td>0</td>\n",
              "    </tr>\n",
              "    <tr>\n",
              "      <th>11</th>\n",
              "      <td>1430</td>\n",
              "      <td>34.0881</td>\n",
              "      <td>-118.1877</td>\n",
              "      <td>0</td>\n",
              "    </tr>\n",
              "    <tr>\n",
              "      <th>15</th>\n",
              "      <td>30</td>\n",
              "      <td>34.0467</td>\n",
              "      <td>-118.2520</td>\n",
              "      <td>0</td>\n",
              "    </tr>\n",
              "  </tbody>\n",
              "</table>\n",
              "</div>"
            ],
            "text/plain": [
              "    TIME OCC      LAT       LON  Is F\n",
              "0       2130  34.0375 -118.3506     0\n",
              "1       1800  34.0444 -118.2628     0\n",
              "3       2037  34.1576 -118.4387     0\n",
              "11      1430  34.0881 -118.1877     0\n",
              "15        30  34.0467 -118.2520     0"
            ]
          },
          "execution_count": 7,
          "metadata": {},
          "output_type": "execute_result"
        }
      ],
      "source": [
        "df.head()"
      ]
    },
    {
      "cell_type": "code",
      "execution_count": 8,
      "metadata": {
        "colab": {
          "base_uri": "https://localhost:8080/",
          "height": 300
        },
        "id": "jljh5jx8myXF",
        "outputId": "92df24ed-cbbc-4406-da11-2db7dfcb198a"
      },
      "outputs": [
        {
          "data": {
            "text/html": [
              "<div>\n",
              "<style scoped>\n",
              "    .dataframe tbody tr th:only-of-type {\n",
              "        vertical-align: middle;\n",
              "    }\n",
              "\n",
              "    .dataframe tbody tr th {\n",
              "        vertical-align: top;\n",
              "    }\n",
              "\n",
              "    .dataframe thead th {\n",
              "        text-align: right;\n",
              "    }\n",
              "</style>\n",
              "<table border=\"1\" class=\"dataframe\">\n",
              "  <thead>\n",
              "    <tr style=\"text-align: right;\">\n",
              "      <th></th>\n",
              "      <th>TIME OCC</th>\n",
              "      <th>LAT</th>\n",
              "      <th>LON</th>\n",
              "      <th>Is F</th>\n",
              "    </tr>\n",
              "  </thead>\n",
              "  <tbody>\n",
              "    <tr>\n",
              "      <th>count</th>\n",
              "      <td>157726.000000</td>\n",
              "      <td>157726.000000</td>\n",
              "      <td>157726.000000</td>\n",
              "      <td>157726.000000</td>\n",
              "    </tr>\n",
              "    <tr>\n",
              "      <th>mean</th>\n",
              "      <td>1342.122922</td>\n",
              "      <td>33.937263</td>\n",
              "      <td>-117.873897</td>\n",
              "      <td>0.461141</td>\n",
              "    </tr>\n",
              "    <tr>\n",
              "      <th>std</th>\n",
              "      <td>647.525560</td>\n",
              "      <td>2.177579</td>\n",
              "      <td>7.554040</td>\n",
              "      <td>0.498489</td>\n",
              "    </tr>\n",
              "    <tr>\n",
              "      <th>min</th>\n",
              "      <td>1.000000</td>\n",
              "      <td>0.000000</td>\n",
              "      <td>-118.667600</td>\n",
              "      <td>0.000000</td>\n",
              "    </tr>\n",
              "    <tr>\n",
              "      <th>25%</th>\n",
              "      <td>920.000000</td>\n",
              "      <td>34.012600</td>\n",
              "      <td>-118.435100</td>\n",
              "      <td>0.000000</td>\n",
              "    </tr>\n",
              "    <tr>\n",
              "      <th>50%</th>\n",
              "      <td>1420.000000</td>\n",
              "      <td>34.059900</td>\n",
              "      <td>-118.327600</td>\n",
              "      <td>0.000000</td>\n",
              "    </tr>\n",
              "    <tr>\n",
              "      <th>75%</th>\n",
              "      <td>1855.000000</td>\n",
              "      <td>34.168800</td>\n",
              "      <td>-118.275600</td>\n",
              "      <td>1.000000</td>\n",
              "    </tr>\n",
              "    <tr>\n",
              "      <th>max</th>\n",
              "      <td>2359.000000</td>\n",
              "      <td>34.329300</td>\n",
              "      <td>0.000000</td>\n",
              "      <td>1.000000</td>\n",
              "    </tr>\n",
              "  </tbody>\n",
              "</table>\n",
              "</div>"
            ],
            "text/plain": [
              "            TIME OCC            LAT            LON           Is F\n",
              "count  157726.000000  157726.000000  157726.000000  157726.000000\n",
              "mean     1342.122922      33.937263    -117.873897       0.461141\n",
              "std       647.525560       2.177579       7.554040       0.498489\n",
              "min         1.000000       0.000000    -118.667600       0.000000\n",
              "25%       920.000000      34.012600    -118.435100       0.000000\n",
              "50%      1420.000000      34.059900    -118.327600       0.000000\n",
              "75%      1855.000000      34.168800    -118.275600       1.000000\n",
              "max      2359.000000      34.329300       0.000000       1.000000"
            ]
          },
          "execution_count": 8,
          "metadata": {},
          "output_type": "execute_result"
        }
      ],
      "source": [
        "df.describe()"
      ]
    },
    {
      "cell_type": "code",
      "execution_count": 9,
      "metadata": {
        "id": "6bCPN1zFb6pW"
      },
      "outputs": [],
      "source": [
        "# Split our preprocessed data into our features and target arrays\n",
        "y = df['Is F'].values\n",
        "X = df.drop('Is F', axis=1).values\n",
        "\n",
        "# Split the preprocessed data into a training and testing dataset\n",
        "X_train, X_test, y_train, y_test = train_test_split(X, y, random_state=8)"
      ]
    },
    {
      "cell_type": "code",
      "execution_count": 10,
      "metadata": {
        "id": "Zez8HemYb6pW"
      },
      "outputs": [],
      "source": [
        "# Create a StandardScaler instances\n",
        "scaler = StandardScaler()\n",
        "\n",
        "# Fit the StandardScaler\n",
        "X_scaler = scaler.fit(X_train)\n",
        "\n",
        "# Scale the data\n",
        "X_train_scaled = X_scaler.transform(X_train)\n",
        "X_test_scaled = X_scaler.transform(X_test)"
      ]
    },
    {
      "cell_type": "markdown",
      "metadata": {
        "id": "InjOQ5Umb6pW"
      },
      "source": [
        "## Compile, Train and Evaluate the Model"
      ]
    },
    {
      "cell_type": "code",
      "execution_count": 11,
      "metadata": {
        "colab": {
          "base_uri": "https://localhost:8080/",
          "height": 248
        },
        "id": "9fVSCFQ9b6pW",
        "outputId": "4737d086-a240-4a08-aa23-5331fa1625f3"
      },
      "outputs": [
        {
          "name": "stdout",
          "output_type": "stream",
          "text": [
            "Model: \"sequential\"\n",
            "_________________________________________________________________\n",
            " Layer (type)                Output Shape              Param #   \n",
            "=================================================================\n",
            " dense (Dense)               (None, 4)                 16        \n",
            "                                                                 \n",
            " dense_1 (Dense)             (None, 2)                 10        \n",
            "                                                                 \n",
            " dense_2 (Dense)             (None, 1)                 3         \n",
            "                                                                 \n",
            "=================================================================\n",
            "Total params: 29 (116.00 Byte)\n",
            "Trainable params: 29 (116.00 Byte)\n",
            "Non-trainable params: 0 (0.00 Byte)\n",
            "_________________________________________________________________\n"
          ]
        }
      ],
      "source": [
        "# Define the model - deep neural net, i.e., the number of input features and hidden nodes for each layer.\n",
        "number_input_features = len(X_train[0])\n",
        "hidden_nodes_layer1 = 4 # neural units tried: 2,4,8,16,32,64,128,256\n",
        "hidden_nodes_layer2 = 2 # multiple layers attempted\n",
        "# hidden_nodes_layer3 = 2\n",
        "# hidden_nodes_layer4 = 2\n",
        "\n",
        "nn = tf.keras.models.Sequential()\n",
        "\n",
        "# First hidden layer\n",
        "nn.add(\n",
        "    tf.keras.layers.Dense(units=hidden_nodes_layer1,\n",
        "                          input_dim=number_input_features,\n",
        "                          activation=\"relu\")\n",
        ")\n",
        "\n",
        "# Additional hidden layers\n",
        "nn.add(tf.keras.layers.Dense(units=hidden_nodes_layer2,\n",
        "                             activation=\"relu\"))\n",
        "# nn.add(tf.keras.layers.Dense(units=hidden_nodes_layer3,\n",
        "#                              activation=\"relu\"))\n",
        "# nn.add(tf.keras.layers.Dense(units=hidden_nodes_layer4,\n",
        "#                              activation=\"relu\"))\n",
        "\n",
        "# Output layer\n",
        "nn.add(tf.keras.layers.Dense(units=1,\n",
        "                             activation=\"sigmoid\"))\n",
        "\n",
        "# Check the structure of the model\n",
        "nn.summary()"
      ]
    },
    {
      "cell_type": "code",
      "execution_count": 12,
      "metadata": {
        "id": "g20llzbSb6pW"
      },
      "outputs": [],
      "source": [
        "# Compile the model\n",
        "nn.compile(loss=\"binary_crossentropy\", optimizer=\"adam\", metrics=[\"accuracy\"])"
      ]
    },
    {
      "cell_type": "code",
      "execution_count": 13,
      "metadata": {
        "colab": {
          "base_uri": "https://localhost:8080/"
        },
        "id": "5_Y1I1vEb6pW",
        "outputId": "5bbc637d-9b35-47b3-cb37-69fc0bf73c85"
      },
      "outputs": [
        {
          "name": "stdout",
          "output_type": "stream",
          "text": [
            "Epoch 1/20\n",
            "3697/3697 [==============================] - 1s 303us/step - loss: 0.6905 - accuracy: 0.5374\n",
            "Epoch 2/20\n",
            "3697/3697 [==============================] - 1s 309us/step - loss: 0.6901 - accuracy: 0.5391\n",
            "Epoch 3/20\n",
            "3697/3697 [==============================] - 1s 294us/step - loss: 0.6901 - accuracy: 0.5392\n",
            "Epoch 4/20\n",
            "3697/3697 [==============================] - 1s 299us/step - loss: 0.6900 - accuracy: 0.5391\n",
            "Epoch 5/20\n",
            "3697/3697 [==============================] - 1s 292us/step - loss: 0.6899 - accuracy: 0.5392\n",
            "Epoch 6/20\n",
            "3697/3697 [==============================] - 1s 294us/step - loss: 0.6898 - accuracy: 0.5392\n",
            "Epoch 7/20\n",
            "3697/3697 [==============================] - 1s 301us/step - loss: 0.6897 - accuracy: 0.5392\n",
            "Epoch 8/20\n",
            "3697/3697 [==============================] - 1s 293us/step - loss: 0.6895 - accuracy: 0.5399\n",
            "Epoch 9/20\n",
            "3697/3697 [==============================] - 1s 299us/step - loss: 0.6893 - accuracy: 0.5407\n",
            "Epoch 10/20\n",
            "3697/3697 [==============================] - 1s 296us/step - loss: 0.6891 - accuracy: 0.5403\n",
            "Epoch 11/20\n",
            "3697/3697 [==============================] - 1s 307us/step - loss: 0.6890 - accuracy: 0.5410\n",
            "Epoch 12/20\n",
            "3697/3697 [==============================] - 1s 297us/step - loss: 0.6889 - accuracy: 0.5424\n",
            "Epoch 13/20\n",
            "3697/3697 [==============================] - 1s 301us/step - loss: 0.6887 - accuracy: 0.5434\n",
            "Epoch 14/20\n",
            "3697/3697 [==============================] - 1s 295us/step - loss: 0.6885 - accuracy: 0.5444\n",
            "Epoch 15/20\n",
            "3697/3697 [==============================] - 1s 295us/step - loss: 0.6884 - accuracy: 0.5449\n",
            "Epoch 16/20\n",
            "3697/3697 [==============================] - 1s 301us/step - loss: 0.6882 - accuracy: 0.5464\n",
            "Epoch 17/20\n",
            "3697/3697 [==============================] - 1s 297us/step - loss: 0.6881 - accuracy: 0.5466\n",
            "Epoch 18/20\n",
            "3697/3697 [==============================] - 1s 296us/step - loss: 0.6880 - accuracy: 0.5474\n",
            "Epoch 19/20\n",
            "3697/3697 [==============================] - 1s 301us/step - loss: 0.6880 - accuracy: 0.5475\n",
            "Epoch 20/20\n",
            "3697/3697 [==============================] - 1s 298us/step - loss: 0.6881 - accuracy: 0.5474\n"
          ]
        }
      ],
      "source": [
        "# Train the model\n",
        "fit_model = nn.fit(X_train_scaled,y_train,epochs=20) # no improved accuracy after 2 epochs"
      ]
    },
    {
      "cell_type": "code",
      "execution_count": 14,
      "metadata": {
        "colab": {
          "base_uri": "https://localhost:8080/"
        },
        "id": "cdsKlR9Ub6pW",
        "outputId": "30e82937-1e0c-4b65-8de8-39c8a947399e"
      },
      "outputs": [
        {
          "name": "stdout",
          "output_type": "stream",
          "text": [
            "1233/1233 - 0s - loss: 0.6883 - accuracy: 0.5451 - 318ms/epoch - 258us/step\n",
            "Loss: 0.6882994174957275, Accuracy: 0.5450902581214905\n"
          ]
        }
      ],
      "source": [
        "# Evaluate the model using the test data\n",
        "model_loss, model_accuracy = nn.evaluate(X_test_scaled,y_test,verbose=2)\n",
        "print(f\"Loss: {model_loss}, Accuracy: {model_accuracy}\")"
      ]
    },
    {
      "cell_type": "code",
      "execution_count": 15,
      "metadata": {
        "colab": {
          "base_uri": "https://localhost:8080/"
        },
        "id": "f5wRSZZxb6pX",
        "outputId": "626c2ea1-8e02-4c36-db40-3ba7d420aeb4"
      },
      "outputs": [
        {
          "name": "stderr",
          "output_type": "stream",
          "text": [
            "/opt/anaconda3/envs/dev/lib/python3.10/site-packages/keras/src/engine/training.py:3103: UserWarning: You are saving your model as an HDF5 file via `model.save()`. This file format is considered legacy. We recommend using instead the native Keras format, e.g. `model.save('my_model.keras')`.\n",
            "  saving_api.save_model(\n"
          ]
        }
      ],
      "source": [
        "# Export our model to HDF5 file\n",
        "nn.save('victim_is_F.h5')"
      ]
    },
    {
      "cell_type": "code",
      "execution_count": null,
      "metadata": {
        "id": "LY2FoXUZb6pX"
      },
      "outputs": [],
      "source": []
    }
  ],
  "metadata": {
    "colab": {
      "provenance": []
    },
    "kernelspec": {
      "display_name": "dev",
      "language": "python",
      "name": "python3"
    },
    "language_info": {
      "codemirror_mode": {
        "name": "ipython",
        "version": 3
      },
      "file_extension": ".py",
      "mimetype": "text/x-python",
      "name": "python",
      "nbconvert_exporter": "python",
      "pygments_lexer": "ipython3",
      "version": "3.10.13"
    }
  },
  "nbformat": 4,
  "nbformat_minor": 0
}
